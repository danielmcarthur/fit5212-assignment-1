{
  "nbformat": 4,
  "nbformat_minor": 0,
  "metadata": {
    "kernelspec": {
      "display_name": "Python 3",
      "language": "python",
      "name": "python3"
    },
    "language_info": {
      "codemirror_mode": {
        "name": "ipython",
        "version": 3
      },
      "file_extension": ".py",
      "mimetype": "text/x-python",
      "name": "python",
      "nbconvert_exporter": "python",
      "pygments_lexer": "ipython3",
      "version": "3.8.5"
    },
    "colab": {
      "name": "FIT5212-Assignment-1-31421393.ipynb",
      "provenance": [],
      "collapsed_sections": [],
      "toc_visible": true,
      "include_colab_link": true
    }
  },
  "cells": [
    {
      "cell_type": "markdown",
      "metadata": {
        "id": "view-in-github",
        "colab_type": "text"
      },
      "source": [
        "<a href=\"https://colab.research.google.com/github/danielmcarthur/fit5212-assignment-1/blob/main/FIT5212_Assignment_1_31421393.ipynb\" target=\"_parent\"><img src=\"https://colab.research.google.com/assets/colab-badge.svg\" alt=\"Open In Colab\"/></a>"
      ]
    },
    {
      "cell_type": "markdown",
      "metadata": {
        "id": "iCIIhpVelwXy"
      },
      "source": [
        "# FIT5212 Assignment 1\n",
        "Author: Daniel McArthur | 31421393 | dmca0006@student.monash.edu\n",
        "\n",
        "## Contents\n",
        "\n",
        "1. [Introduction](#1introduction)\n",
        "2. [Part 1: Text Classification](#2textclassification) <br>\n",
        "  2.1 [Text Pre-Processing](#2.1textpre)\n"
      ]
    },
    {
      "cell_type": "markdown",
      "metadata": {
        "id": "-W_lcSQzlwX0"
      },
      "source": [
        "<a id='1introduction'></a>\n",
        "\n",
        "## 1. Introduction\n",
        "\n",
        "This task can be separated into two parts, the first being a Text Classification task and the second being a Topic Modelling task. The models I create will be trained on a dataset of 55,000 computer science abstracts from 1990 - 2014, sourced from arXiv.org. The models will be trained on a small dataset from 2015 by the same source. \n",
        "\n",
        "**Part 1: Text Classification**\n",
        "\n",
        "The dataset of computer science articles are able to be classified into any combination of the three tags: *InfoTheory, CompVis* and *Math*. The `abstract` text data will first need to be pre-processed before training. In order to compare two different methods, the pre-processing and model used for the Text Classifier will be modified and compared. \n",
        "\n",
        "**Part 2: Topic Modelling**\n",
        "\n",
        "The same training dataset from Part 1 will be used in this task for Latent Dirichlet Allocation (LDA) Topic Modelling. This will be done using appropriate text pre-processing and preparation with the `gensim.models.LdaModel()` function. Again, two variations in text pre-processing and LDA topics will be configured and compared with two different variations. "
      ]
    },
    {
      "cell_type": "markdown",
      "metadata": {
        "id": "80NJaNColwX1"
      },
      "source": [
        "<a id='2textclassification'></a>\n",
        "# 2. Part 1: Text Classification"
      ]
    },
    {
      "cell_type": "code",
      "metadata": {
        "colab": {
          "base_uri": "https://localhost:8080/"
        },
        "id": "U6DgpTLClwX1",
        "outputId": "91eabea0-38aa-4725-a9a9-40ae98253c7d"
      },
      "source": [
        "# import our libraries\n",
        "import pandas as pd\n",
        "import numpy as np\n",
        "import re\n",
        "# pre-processing\n",
        "from nltk.corpus import stopwords\n",
        "from nltk import word_tokenize    \n",
        "from nltk.tokenize import wordpunct_tokenize\n",
        "from nltk.stem import WordNetLemmatizer\n",
        "\n",
        "from sklearn.feature_extraction.text import TfidfVectorizer\n",
        "from sklearn.feature_extraction.text import CountVectorizer\n",
        "# uncomment lines below to install\n",
        "import nltk\n",
        "nltk.download('punkt')\n",
        "nltk.download('wordnet')\n",
        "nltk.download('stopwords')"
      ],
      "execution_count": 13,
      "outputs": [
        {
          "output_type": "stream",
          "text": [
            "[nltk_data] Downloading package punkt to /root/nltk_data...\n",
            "[nltk_data]   Unzipping tokenizers/punkt.zip.\n",
            "[nltk_data] Downloading package wordnet to /root/nltk_data...\n",
            "[nltk_data]   Unzipping corpora/wordnet.zip.\n",
            "[nltk_data] Downloading package stopwords to /root/nltk_data...\n",
            "[nltk_data]   Unzipping corpora/stopwords.zip.\n"
          ],
          "name": "stdout"
        },
        {
          "output_type": "execute_result",
          "data": {
            "text/plain": [
              "True"
            ]
          },
          "metadata": {
            "tags": []
          },
          "execution_count": 13
        }
      ]
    },
    {
      "cell_type": "code",
      "metadata": {
        "id": "K3t8WI12lwX2"
      },
      "source": [
        "train = pd.read_csv('axcs_train.csv', engine=\"python\", sep=',', quotechar='\"', error_bad_lines=False)"
      ],
      "execution_count": null,
      "outputs": []
    },
    {
      "cell_type": "markdown",
      "metadata": {
        "id": "GT1yOd602Yl9"
      },
      "source": [
        "<a id='2.1textpre'></a>\n",
        "## 2.1 Text Pre-Processing\n",
        "In order to train our text classification model, appropriate text pre-processing must be conducted. To compare how the eventual model is affected by different pre-processing techniques, I will create two different configurations: **Limited Pre-Processing (LPP)** and **Extensive Pre-Processing (EPP)**. \n",
        "\n",
        "**LPP** will be comprised of:\n",
        "1. Removal of non-alpha text\n",
        "2. Convert to lower case\n",
        "3. Tokenisation\n",
        "4. Removal of stopwords\n",
        "5. Word stemming/lemmatisation\n",
        "\n",
        "**EPP** will be comprised of:\n",
        "1. Removal of non-alpha text\n",
        "2. Convert to lower case\n",
        "3. Tokenisation\n",
        "4. Removal of stopwords\n",
        "5. Removal of numbers\n",
        "6. TF-IDF for term importance in corpus\n",
        "7. Top 1000 bi-gram inclusion\n",
        "8. Word stemming/lemmatisation\n",
        "\n"
      ]
    },
    {
      "cell_type": "markdown",
      "metadata": {
        "id": "A1MZtmZY2bpc"
      },
      "source": [
        "\n",
        "\n",
        "```\n",
        "Steps: \n",
        "1. Text Pre-processing\n",
        "2. Train the model\n",
        "\n",
        "```\n",
        "\n"
      ]
    },
    {
      "cell_type": "code",
      "metadata": {
        "id": "Z7-YWvFA2TjY"
      },
      "source": [
        "# Let's define some tokeniser\n",
        "class LemmaTokenizerWordnet(object):\n",
        "    def __init__(self):\n",
        "        self.wnl=WordNetLemmatizer()\n",
        "    def __call__(self,doc):\n",
        "        return [self.wnl.lemmatize(t) for t in word_tokenize(doc)]"
      ],
      "execution_count": 14,
      "outputs": []
    },
    {
      "cell_type": "code",
      "metadata": {
        "colab": {
          "base_uri": "https://localhost:8080/"
        },
        "id": "HJlDkONvFC2A",
        "outputId": "2eaf2347-a2fe-4a8f-aab6-5c5161faebad"
      },
      "source": [
        "test = train.Abstract[10:20, ]\n",
        "test"
      ],
      "execution_count": 23,
      "outputs": [
        {
          "output_type": "execute_result",
          "data": {
            "text/plain": [
              "10     Software Agents: Completing Patterns and Cons...\n",
              "11     The Difficulties of Learning Logic Programs w...\n",
              "12     Decidable Reasoning in Terminological Knowled...\n",
              "13     Mini-indexes for literate programs This paper...\n",
              "14     Teleo-Reactive Programs for Agent Control A f...\n",
              "15     Bias-Driven Revision of Logical Domain Theori...\n",
              "16     Learning the Past Tense of English Verbs: The...\n",
              "17     Substructure Discovery Using Minimum Descript...\n",
              "18     Exploring the Decision Forest: An Empirical I...\n",
              "19     An Alternative Conception of Tree-Adjoining D...\n",
              "Name: Abstract, dtype: object"
            ]
          },
          "metadata": {
            "tags": []
          },
          "execution_count": 23
        }
      ]
    },
    {
      "cell_type": "code",
      "metadata": {
        "colab": {
          "base_uri": "https://localhost:8080/"
        },
        "id": "N0knwktaFMYl",
        "outputId": "15ffaa94-ab31-4621-dba0-77e5dbf97941"
      },
      "source": [
        "# create test word tokeniser\n",
        "for x in test:\n",
        "  x = word_tokenize(x.lower())\n",
        "test"
      ],
      "execution_count": 27,
      "outputs": [
        {
          "output_type": "execute_result",
          "data": {
            "text/plain": [
              "10     Software Agents: Completing Patterns and Cons...\n",
              "11     The Difficulties of Learning Logic Programs w...\n",
              "12     Decidable Reasoning in Terminological Knowled...\n",
              "13     Mini-indexes for literate programs This paper...\n",
              "14     Teleo-Reactive Programs for Agent Control A f...\n",
              "15     Bias-Driven Revision of Logical Domain Theori...\n",
              "16     Learning the Past Tense of English Verbs: The...\n",
              "17     Substructure Discovery Using Minimum Descript...\n",
              "18     Exploring the Decision Forest: An Empirical I...\n",
              "19     An Alternative Conception of Tree-Adjoining D...\n",
              "Name: Abstract, dtype: object"
            ]
          },
          "metadata": {
            "tags": []
          },
          "execution_count": 27
        }
      ]
    },
    {
      "cell_type": "code",
      "metadata": {
        "colab": {
          "base_uri": "https://localhost:8080/"
        },
        "id": "0FAh29muFRWB",
        "outputId": "a6eae6e0-b751-45d6-ed65-494c91123e04"
      },
      "source": [
        "test"
      ],
      "execution_count": 25,
      "outputs": [
        {
          "output_type": "execute_result",
          "data": {
            "text/plain": [
              "10     Software Agents: Completing Patterns and Cons...\n",
              "11     The Difficulties of Learning Logic Programs w...\n",
              "12     Decidable Reasoning in Terminological Knowled...\n",
              "13     Mini-indexes for literate programs This paper...\n",
              "14     Teleo-Reactive Programs for Agent Control A f...\n",
              "15     Bias-Driven Revision of Logical Domain Theori...\n",
              "16     Learning the Past Tense of English Verbs: The...\n",
              "17     Substructure Discovery Using Minimum Descript...\n",
              "18     Exploring the Decision Forest: An Empirical I...\n",
              "19     An Alternative Conception of Tree-Adjoining D...\n",
              "Name: Abstract, dtype: object"
            ]
          },
          "metadata": {
            "tags": []
          },
          "execution_count": 25
        }
      ]
    },
    {
      "cell_type": "code",
      "metadata": {
        "id": "jaaPDmKUPV_t"
      },
      "source": [
        ""
      ],
      "execution_count": null,
      "outputs": []
    }
  ]
}